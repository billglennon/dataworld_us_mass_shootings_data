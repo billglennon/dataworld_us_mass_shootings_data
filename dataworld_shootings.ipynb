{
 "cells": [
  {
   "cell_type": "markdown",
   "metadata": {},
   "source": [
    "# Mass shootings occurring in the United States from 1982-2015\n",
    "## Taken from https://data.world/awram/us-mass-shootings\n",
    "### Only chnage was to break location into two fields: City and State"
   ]
  },
  {
   "cell_type": "markdown",
   "metadata": {},
   "source": [
    "## Jupyter Notebook Created By: Bill Glennon\n",
    "## Date: December 27, 2016"
   ]
  },
  {
   "cell_type": "code",
   "execution_count": 1,
   "metadata": {
    "collapsed": false
   },
   "outputs": [],
   "source": [
    "# Imports\n",
    "import pandas as pd\n",
    "import os"
   ]
  },
  {
   "cell_type": "code",
   "execution_count": 2,
   "metadata": {
    "collapsed": false
   },
   "outputs": [],
   "source": [
    "# import the csv file into a panda data frame\n",
    "shootings = pd.read_csv(\"mass_shootings_main.csv\")"
   ]
  },
  {
   "cell_type": "markdown",
   "metadata": {},
   "source": [
    "# Look at the data set"
   ]
  },
  {
   "cell_type": "code",
   "execution_count": 3,
   "metadata": {
    "collapsed": false
   },
   "outputs": [
    {
     "data": {
      "text/plain": [
       "pandas.core.frame.DataFrame"
      ]
     },
     "execution_count": 3,
     "metadata": {},
     "output_type": "execute_result"
    }
   ],
   "source": [
    "# Show that it is a data frame\n",
    "type(shootings)"
   ]
  },
  {
   "cell_type": "code",
   "execution_count": 4,
   "metadata": {
    "collapsed": false
   },
   "outputs": [
    {
     "name": "stdout",
     "output_type": "stream",
     "text": [
      "<class 'pandas.core.frame.DataFrame'>\n",
      "RangeIndex: 71 entries, 0 to 70\n",
      "Data columns (total 23 columns):\n",
      "Case                              71 non-null object\n",
      "Shooting type                     71 non-null object\n",
      "Shooter name                      71 non-null object\n",
      "Gender                            71 non-null object\n",
      "Race                              71 non-null object\n",
      "City                              71 non-null object\n",
      "State                             71 non-null object\n",
      "Year                              71 non-null int64\n",
      "Summary                           71 non-null object\n",
      "Fatalities                        71 non-null int64\n",
      "Wounded                           71 non-null int64\n",
      "Total victims                     71 non-null int64\n",
      "Location type                     71 non-null object\n",
      "Prior signs of mental illness?    71 non-null object\n",
      "Mental health notes               67 non-null object\n",
      "Weapons obtained legally          71 non-null object\n",
      "Where weapon obtained             71 non-null object\n",
      "Type of weapons                   71 non-null object\n",
      "Weapon details                    71 non-null object\n",
      "Sources                           71 non-null object\n",
      "Mental Health Sources             67 non-null object\n",
      "Latitude                          71 non-null float64\n",
      "Longitude                         71 non-null float64\n",
      "dtypes: float64(2), int64(4), object(17)\n",
      "memory usage: 12.8+ KB\n"
     ]
    }
   ],
   "source": [
    "# Information on the data set\n",
    "shootings.info()"
   ]
  },
  {
   "cell_type": "code",
   "execution_count": 5,
   "metadata": {
    "collapsed": false
   },
   "outputs": [
    {
     "data": {
      "text/plain": [
       "71"
      ]
     },
     "execution_count": 5,
     "metadata": {},
     "output_type": "execute_result"
    }
   ],
   "source": [
    "# Number of rows\n",
    "len(shootings)"
   ]
  },
  {
   "cell_type": "code",
   "execution_count": 6,
   "metadata": {
    "collapsed": false
   },
   "outputs": [
    {
     "data": {
      "text/plain": [
       "23"
      ]
     },
     "execution_count": 6,
     "metadata": {},
     "output_type": "execute_result"
    }
   ],
   "source": [
    "# Number of columns\n",
    "len(shootings.columns)"
   ]
  },
  {
   "cell_type": "code",
   "execution_count": 7,
   "metadata": {
    "collapsed": false
   },
   "outputs": [
    {
     "data": {
      "text/html": [
       "<div>\n",
       "<table border=\"1\" class=\"dataframe\">\n",
       "  <thead>\n",
       "    <tr style=\"text-align: right;\">\n",
       "      <th></th>\n",
       "      <th>Case</th>\n",
       "      <th>Shooting type</th>\n",
       "      <th>Shooter name</th>\n",
       "      <th>Gender</th>\n",
       "      <th>Race</th>\n",
       "      <th>City</th>\n",
       "      <th>State</th>\n",
       "      <th>Year</th>\n",
       "      <th>Summary</th>\n",
       "      <th>Fatalities</th>\n",
       "      <th>...</th>\n",
       "      <th>Prior signs of mental illness?</th>\n",
       "      <th>Mental health notes</th>\n",
       "      <th>Weapons obtained legally</th>\n",
       "      <th>Where weapon obtained</th>\n",
       "      <th>Type of weapons</th>\n",
       "      <th>Weapon details</th>\n",
       "      <th>Sources</th>\n",
       "      <th>Mental Health Sources</th>\n",
       "      <th>Latitude</th>\n",
       "      <th>Longitude</th>\n",
       "    </tr>\n",
       "  </thead>\n",
       "  <tbody>\n",
       "    <tr>\n",
       "      <th>0</th>\n",
       "      <td>Chattanooga military recruitment center</td>\n",
       "      <td>Mass</td>\n",
       "      <td>Mohammod Youssuf Abdulazeez</td>\n",
       "      <td>Male</td>\n",
       "      <td>Middle Eastern</td>\n",
       "      <td>Chattanooga</td>\n",
       "      <td>Tennessee</td>\n",
       "      <td>2015</td>\n",
       "      <td>Kuwaiti-born Mohammod Youssuf Abdulazeez, 24, ...</td>\n",
       "      <td>5</td>\n",
       "      <td>...</td>\n",
       "      <td>Yes</td>\n",
       "      <td>Abdulazeez \"had suffered for years from depres...</td>\n",
       "      <td>Yes</td>\n",
       "      <td>On the internet, via Armslist.com</td>\n",
       "      <td>2 assault rifles; semiautomatic handgun\\n</td>\n",
       "      <td>AK-47, AR-15, and 30-round magazines; 9mm handgun</td>\n",
       "      <td>http://www.reuters.com/article/2015/07/16/us-u...</td>\n",
       "      <td>NaN</td>\n",
       "      <td>35.047157</td>\n",
       "      <td>-85.311819</td>\n",
       "    </tr>\n",
       "    <tr>\n",
       "      <th>1</th>\n",
       "      <td>Charleston Church Shooting</td>\n",
       "      <td>Mass</td>\n",
       "      <td>Dylann Storm Roof</td>\n",
       "      <td>Male</td>\n",
       "      <td>White</td>\n",
       "      <td>Charleston</td>\n",
       "      <td>South Carolina</td>\n",
       "      <td>2015</td>\n",
       "      <td>Dylann Storm Roof, 21, shot and killed 9 peopl...</td>\n",
       "      <td>9</td>\n",
       "      <td>...</td>\n",
       "      <td>No</td>\n",
       "      <td>NaN</td>\n",
       "      <td>Yes</td>\n",
       "      <td>Shooter's Choice gun store in West Columbia, S...</td>\n",
       "      <td>Handgun</td>\n",
       "      <td>.45-caliber Glock (model 41, with 13-round cap...</td>\n",
       "      <td>http://www.motherjones.com/politics/2015/06/dy...</td>\n",
       "      <td>NaN</td>\n",
       "      <td>32.788387</td>\n",
       "      <td>-79.933143</td>\n",
       "    </tr>\n",
       "  </tbody>\n",
       "</table>\n",
       "<p>2 rows × 23 columns</p>\n",
       "</div>"
      ],
      "text/plain": [
       "                                      Case Shooting type  \\\n",
       "0  Chattanooga military recruitment center          Mass   \n",
       "1               Charleston Church Shooting          Mass   \n",
       "\n",
       "                  Shooter name Gender            Race         City  \\\n",
       "0  Mohammod Youssuf Abdulazeez   Male  Middle Eastern  Chattanooga   \n",
       "1            Dylann Storm Roof   Male           White   Charleston   \n",
       "\n",
       "             State  Year                                            Summary  \\\n",
       "0        Tennessee  2015  Kuwaiti-born Mohammod Youssuf Abdulazeez, 24, ...   \n",
       "1   South Carolina  2015  Dylann Storm Roof, 21, shot and killed 9 peopl...   \n",
       "\n",
       "   Fatalities    ...      Prior signs of mental illness?  \\\n",
       "0           5    ...                                 Yes   \n",
       "1           9    ...                                  No   \n",
       "\n",
       "                                 Mental health notes Weapons obtained legally  \\\n",
       "0  Abdulazeez \"had suffered for years from depres...                      Yes   \n",
       "1                                                NaN                      Yes   \n",
       "\n",
       "                               Where weapon obtained  \\\n",
       "0                  On the internet, via Armslist.com   \n",
       "1  Shooter's Choice gun store in West Columbia, S...   \n",
       "\n",
       "                             Type of weapons  \\\n",
       "0  2 assault rifles; semiautomatic handgun\\n   \n",
       "1                                    Handgun   \n",
       "\n",
       "                                      Weapon details  \\\n",
       "0  AK-47, AR-15, and 30-round magazines; 9mm handgun   \n",
       "1  .45-caliber Glock (model 41, with 13-round cap...   \n",
       "\n",
       "                                             Sources Mental Health Sources  \\\n",
       "0  http://www.reuters.com/article/2015/07/16/us-u...                   NaN   \n",
       "1  http://www.motherjones.com/politics/2015/06/dy...                   NaN   \n",
       "\n",
       "    Latitude  Longitude  \n",
       "0  35.047157 -85.311819  \n",
       "1  32.788387 -79.933143  \n",
       "\n",
       "[2 rows x 23 columns]"
      ]
     },
     "execution_count": 7,
     "metadata": {},
     "output_type": "execute_result"
    }
   ],
   "source": [
    "# Show first 2 records of the data set\n",
    "shootings.head(2)"
   ]
  },
  {
   "cell_type": "code",
   "execution_count": 8,
   "metadata": {
    "collapsed": false
   },
   "outputs": [
    {
     "data": {
      "text/html": [
       "<div>\n",
       "<table border=\"1\" class=\"dataframe\">\n",
       "  <thead>\n",
       "    <tr style=\"text-align: right;\">\n",
       "      <th></th>\n",
       "      <th>Case</th>\n",
       "      <th>Shooting type</th>\n",
       "      <th>Shooter name</th>\n",
       "      <th>Gender</th>\n",
       "      <th>Race</th>\n",
       "      <th>City</th>\n",
       "      <th>State</th>\n",
       "      <th>Year</th>\n",
       "      <th>Summary</th>\n",
       "      <th>Fatalities</th>\n",
       "      <th>...</th>\n",
       "      <th>Prior signs of mental illness?</th>\n",
       "      <th>Mental health notes</th>\n",
       "      <th>Weapons obtained legally</th>\n",
       "      <th>Where weapon obtained</th>\n",
       "      <th>Type of weapons</th>\n",
       "      <th>Weapon details</th>\n",
       "      <th>Sources</th>\n",
       "      <th>Mental Health Sources</th>\n",
       "      <th>Latitude</th>\n",
       "      <th>Longitude</th>\n",
       "    </tr>\n",
       "  </thead>\n",
       "  <tbody>\n",
       "    <tr>\n",
       "      <th>69</th>\n",
       "      <td>Dallas nightclub shooting</td>\n",
       "      <td>Mass</td>\n",
       "      <td>Abdelkrim Belachheb</td>\n",
       "      <td>Male</td>\n",
       "      <td>White</td>\n",
       "      <td>Dallas</td>\n",
       "      <td>Texas</td>\n",
       "      <td>1984</td>\n",
       "      <td>Abdelkrim Belachheb, 39, opened fire at an ups...</td>\n",
       "      <td>6</td>\n",
       "      <td>...</td>\n",
       "      <td>Yes</td>\n",
       "      <td>During his last meal with his wife, he confess...</td>\n",
       "      <td>No</td>\n",
       "      <td>Hines Boulevard Pawn Shop in Dallas, Texas</td>\n",
       "      <td>One semiautomatic handgun</td>\n",
       "      <td>9mm Smith &amp; Wesson 459 semiautomatic handgun</td>\n",
       "      <td>http://books.google.com/books?id=Hr3OBwP-lbUC&amp;...</td>\n",
       "      <td>http://books.google.com/books?id=Hr3OBwP-lbUC&amp;...</td>\n",
       "      <td>32.780105</td>\n",
       "      <td>-96.800008</td>\n",
       "    </tr>\n",
       "    <tr>\n",
       "      <th>70</th>\n",
       "      <td>Welding shop shooting</td>\n",
       "      <td>Mass</td>\n",
       "      <td>Carl Robert Brown</td>\n",
       "      <td>Male</td>\n",
       "      <td>White</td>\n",
       "      <td>Miami</td>\n",
       "      <td>Florida</td>\n",
       "      <td>1982</td>\n",
       "      <td>Junior high school teacher Carl Robert Brown, ...</td>\n",
       "      <td>8</td>\n",
       "      <td>...</td>\n",
       "      <td>Yes</td>\n",
       "      <td>His second wife left him because he refused to...</td>\n",
       "      <td>Yes</td>\n",
       "      <td>Garcia Gun Center in Hialeah, Fla.</td>\n",
       "      <td>One shotgun</td>\n",
       "      <td>Mossberg 500 Persuader pump-action shotgun wit...</td>\n",
       "      <td>http://www.nytimes.com/1982/08/21/us/gunman-in...</td>\n",
       "      <td>http://news.google.com/newspapers?id=uuYLAAAAI...</td>\n",
       "      <td>25.796491</td>\n",
       "      <td>-80.226683</td>\n",
       "    </tr>\n",
       "  </tbody>\n",
       "</table>\n",
       "<p>2 rows × 23 columns</p>\n",
       "</div>"
      ],
      "text/plain": [
       "                         Case Shooting type         Shooter name Gender  \\\n",
       "69  Dallas nightclub shooting          Mass  Abdelkrim Belachheb   Male   \n",
       "70      Welding shop shooting          Mass    Carl Robert Brown   Male   \n",
       "\n",
       "     Race    City     State  Year  \\\n",
       "69  White  Dallas     Texas  1984   \n",
       "70  White   Miami   Florida  1982   \n",
       "\n",
       "                                              Summary  Fatalities    ...      \\\n",
       "69  Abdelkrim Belachheb, 39, opened fire at an ups...           6    ...       \n",
       "70  Junior high school teacher Carl Robert Brown, ...           8    ...       \n",
       "\n",
       "    Prior signs of mental illness?  \\\n",
       "69                             Yes   \n",
       "70                             Yes   \n",
       "\n",
       "                                  Mental health notes  \\\n",
       "69  During his last meal with his wife, he confess...   \n",
       "70  His second wife left him because he refused to...   \n",
       "\n",
       "   Weapons obtained legally                       Where weapon obtained  \\\n",
       "69                       No  Hines Boulevard Pawn Shop in Dallas, Texas   \n",
       "70                      Yes          Garcia Gun Center in Hialeah, Fla.   \n",
       "\n",
       "              Type of weapons  \\\n",
       "69  One semiautomatic handgun   \n",
       "70                One shotgun   \n",
       "\n",
       "                                       Weapon details  \\\n",
       "69       9mm Smith & Wesson 459 semiautomatic handgun   \n",
       "70  Mossberg 500 Persuader pump-action shotgun wit...   \n",
       "\n",
       "                                              Sources  \\\n",
       "69  http://books.google.com/books?id=Hr3OBwP-lbUC&...   \n",
       "70  http://www.nytimes.com/1982/08/21/us/gunman-in...   \n",
       "\n",
       "                                Mental Health Sources   Latitude  Longitude  \n",
       "69  http://books.google.com/books?id=Hr3OBwP-lbUC&...  32.780105 -96.800008  \n",
       "70  http://news.google.com/newspapers?id=uuYLAAAAI...  25.796491 -80.226683  \n",
       "\n",
       "[2 rows x 23 columns]"
      ]
     },
     "execution_count": 8,
     "metadata": {},
     "output_type": "execute_result"
    }
   ],
   "source": [
    "# Show last 2 records of the data set\n",
    "shootings.tail(2)"
   ]
  },
  {
   "cell_type": "code",
   "execution_count": 9,
   "metadata": {
    "collapsed": false
   },
   "outputs": [
    {
     "data": {
      "text/plain": [
       "Index(['Case', 'Shooting type', 'Shooter name', 'Gender', 'Race', 'City',\n",
       "       'State', 'Year', 'Summary', 'Fatalities', 'Wounded', 'Total victims',\n",
       "       'Location type', 'Prior signs of mental illness?',\n",
       "       'Mental health notes', 'Weapons obtained legally',\n",
       "       'Where weapon obtained', 'Type of weapons', 'Weapon details', 'Sources',\n",
       "       'Mental Health Sources', 'Latitude', 'Longitude'],\n",
       "      dtype='object')"
      ]
     },
     "execution_count": 9,
     "metadata": {},
     "output_type": "execute_result"
    }
   ],
   "source": [
    "# Show the columns of the data set\n",
    "shootings.columns"
   ]
  },
  {
   "cell_type": "code",
   "execution_count": 10,
   "metadata": {
    "collapsed": false
   },
   "outputs": [],
   "source": [
    "# Adding underscore to colmn names\n",
    "shootings.columns = ['Case', 'Shooting_type', 'Shooter_name', 'Gender', 'Race',\n",
    "       'City', 'State', 'Year', 'Summary', 'Fatalities',\n",
    "       'Wounded', 'Total_victims', 'Location_type',\n",
    "       'Prior_signs_of_mental_illness', 'Mental_health_notes',\n",
    "       'Weapons_obtained_legally', 'Where_weapon_obtained', 'Type_of_weapons',\n",
    "       'Weapon_details', 'Sources', 'Mental_Health_Sources', 'Latitude',\n",
    "       'Longitude']"
   ]
  },
  {
   "cell_type": "code",
   "execution_count": 11,
   "metadata": {
    "collapsed": false
   },
   "outputs": [
    {
     "name": "stdout",
     "output_type": "stream",
     "text": [
      "<class 'pandas.core.frame.DataFrame'>\n",
      "RangeIndex: 71 entries, 0 to 70\n",
      "Data columns (total 23 columns):\n",
      "Case                             71 non-null object\n",
      "Shooting_type                    71 non-null object\n",
      "Shooter_name                     71 non-null object\n",
      "Gender                           71 non-null object\n",
      "Race                             71 non-null object\n",
      "City                             71 non-null object\n",
      "State                            71 non-null object\n",
      "Year                             71 non-null int64\n",
      "Summary                          71 non-null object\n",
      "Fatalities                       71 non-null int64\n",
      "Wounded                          71 non-null int64\n",
      "Total_victims                    71 non-null int64\n",
      "Location_type                    71 non-null object\n",
      "Prior_signs_of_mental_illness    71 non-null object\n",
      "Mental_health_notes              67 non-null object\n",
      "Weapons_obtained_legally         71 non-null object\n",
      "Where_weapon_obtained            71 non-null object\n",
      "Type_of_weapons                  71 non-null object\n",
      "Weapon_details                   71 non-null object\n",
      "Sources                          71 non-null object\n",
      "Mental_Health_Sources            67 non-null object\n",
      "Latitude                         71 non-null float64\n",
      "Longitude                        71 non-null float64\n",
      "dtypes: float64(2), int64(4), object(17)\n",
      "memory usage: 12.8+ KB\n"
     ]
    }
   ],
   "source": [
    "# Information on the data set - Notice new column names\n",
    "shootings.info()"
   ]
  },
  {
   "cell_type": "code",
   "execution_count": 12,
   "metadata": {
    "collapsed": false
   },
   "outputs": [
    {
     "data": {
      "text/html": [
       "<div>\n",
       "<table border=\"1\" class=\"dataframe\">\n",
       "  <thead>\n",
       "    <tr style=\"text-align: right;\">\n",
       "      <th></th>\n",
       "      <th>Case</th>\n",
       "      <th>Shooting_type</th>\n",
       "      <th>Shooter_name</th>\n",
       "      <th>Gender</th>\n",
       "      <th>Race</th>\n",
       "      <th>City</th>\n",
       "      <th>State</th>\n",
       "      <th>Year</th>\n",
       "      <th>Summary</th>\n",
       "      <th>Fatalities</th>\n",
       "      <th>...</th>\n",
       "      <th>Prior_signs_of_mental_illness</th>\n",
       "      <th>Mental_health_notes</th>\n",
       "      <th>Weapons_obtained_legally</th>\n",
       "      <th>Where_weapon_obtained</th>\n",
       "      <th>Type_of_weapons</th>\n",
       "      <th>Weapon_details</th>\n",
       "      <th>Sources</th>\n",
       "      <th>Mental_Health_Sources</th>\n",
       "      <th>Latitude</th>\n",
       "      <th>Longitude</th>\n",
       "    </tr>\n",
       "  </thead>\n",
       "  <tbody>\n",
       "    <tr>\n",
       "      <th>0</th>\n",
       "      <td>Chattanooga military recruitment center</td>\n",
       "      <td>Mass</td>\n",
       "      <td>Mohammod Youssuf Abdulazeez</td>\n",
       "      <td>Male</td>\n",
       "      <td>Middle Eastern</td>\n",
       "      <td>Chattanooga</td>\n",
       "      <td>Tennessee</td>\n",
       "      <td>2015</td>\n",
       "      <td>Kuwaiti-born Mohammod Youssuf Abdulazeez, 24, ...</td>\n",
       "      <td>5</td>\n",
       "      <td>...</td>\n",
       "      <td>Yes</td>\n",
       "      <td>Abdulazeez \"had suffered for years from depres...</td>\n",
       "      <td>Yes</td>\n",
       "      <td>On the internet, via Armslist.com</td>\n",
       "      <td>2 assault rifles; semiautomatic handgun\\n</td>\n",
       "      <td>AK-47, AR-15, and 30-round magazines; 9mm handgun</td>\n",
       "      <td>http://www.reuters.com/article/2015/07/16/us-u...</td>\n",
       "      <td>NaN</td>\n",
       "      <td>35.047157</td>\n",
       "      <td>-85.311819</td>\n",
       "    </tr>\n",
       "    <tr>\n",
       "      <th>1</th>\n",
       "      <td>Charleston Church Shooting</td>\n",
       "      <td>Mass</td>\n",
       "      <td>Dylann Storm Roof</td>\n",
       "      <td>Male</td>\n",
       "      <td>White</td>\n",
       "      <td>Charleston</td>\n",
       "      <td>South Carolina</td>\n",
       "      <td>2015</td>\n",
       "      <td>Dylann Storm Roof, 21, shot and killed 9 peopl...</td>\n",
       "      <td>9</td>\n",
       "      <td>...</td>\n",
       "      <td>No</td>\n",
       "      <td>NaN</td>\n",
       "      <td>Yes</td>\n",
       "      <td>Shooter's Choice gun store in West Columbia, S...</td>\n",
       "      <td>Handgun</td>\n",
       "      <td>.45-caliber Glock (model 41, with 13-round cap...</td>\n",
       "      <td>http://www.motherjones.com/politics/2015/06/dy...</td>\n",
       "      <td>NaN</td>\n",
       "      <td>32.788387</td>\n",
       "      <td>-79.933143</td>\n",
       "    </tr>\n",
       "  </tbody>\n",
       "</table>\n",
       "<p>2 rows × 23 columns</p>\n",
       "</div>"
      ],
      "text/plain": [
       "                                      Case Shooting_type  \\\n",
       "0  Chattanooga military recruitment center          Mass   \n",
       "1               Charleston Church Shooting          Mass   \n",
       "\n",
       "                  Shooter_name Gender            Race         City  \\\n",
       "0  Mohammod Youssuf Abdulazeez   Male  Middle Eastern  Chattanooga   \n",
       "1            Dylann Storm Roof   Male           White   Charleston   \n",
       "\n",
       "             State  Year                                            Summary  \\\n",
       "0        Tennessee  2015  Kuwaiti-born Mohammod Youssuf Abdulazeez, 24, ...   \n",
       "1   South Carolina  2015  Dylann Storm Roof, 21, shot and killed 9 peopl...   \n",
       "\n",
       "   Fatalities    ...      Prior_signs_of_mental_illness  \\\n",
       "0           5    ...                                Yes   \n",
       "1           9    ...                                 No   \n",
       "\n",
       "                                 Mental_health_notes Weapons_obtained_legally  \\\n",
       "0  Abdulazeez \"had suffered for years from depres...                      Yes   \n",
       "1                                                NaN                      Yes   \n",
       "\n",
       "                               Where_weapon_obtained  \\\n",
       "0                  On the internet, via Armslist.com   \n",
       "1  Shooter's Choice gun store in West Columbia, S...   \n",
       "\n",
       "                             Type_of_weapons  \\\n",
       "0  2 assault rifles; semiautomatic handgun\\n   \n",
       "1                                    Handgun   \n",
       "\n",
       "                                      Weapon_details  \\\n",
       "0  AK-47, AR-15, and 30-round magazines; 9mm handgun   \n",
       "1  .45-caliber Glock (model 41, with 13-round cap...   \n",
       "\n",
       "                                             Sources Mental_Health_Sources  \\\n",
       "0  http://www.reuters.com/article/2015/07/16/us-u...                   NaN   \n",
       "1  http://www.motherjones.com/politics/2015/06/dy...                   NaN   \n",
       "\n",
       "    Latitude  Longitude  \n",
       "0  35.047157 -85.311819  \n",
       "1  32.788387 -79.933143  \n",
       "\n",
       "[2 rows x 23 columns]"
      ]
     },
     "execution_count": 12,
     "metadata": {},
     "output_type": "execute_result"
    }
   ],
   "source": [
    "# Show first 2 records of the data set\n",
    "shootings.head(2)"
   ]
  },
  {
   "cell_type": "code",
   "execution_count": 13,
   "metadata": {
    "collapsed": false
   },
   "outputs": [
    {
     "data": {
      "text/plain": [
       "count    71.000000\n",
       "mean      8.042254\n",
       "min       4.000000\n",
       "max      33.000000\n",
       "Name: Fatalities, dtype: float64"
      ]
     },
     "execution_count": 13,
     "metadata": {},
     "output_type": "execute_result"
    }
   ],
   "source": [
    "# Show summary statistics on Fatalities\n",
    "shootings['Fatalities'].describe()[['count', 'mean', 'min', 'max']]"
   ]
  },
  {
   "cell_type": "code",
   "execution_count": 14,
   "metadata": {
    "collapsed": false
   },
   "outputs": [
    {
     "data": {
      "text/plain": [
       "count    71.000000\n",
       "mean      7.225352\n",
       "min       0.000000\n",
       "max      58.000000\n",
       "Name: Wounded, dtype: float64"
      ]
     },
     "execution_count": 14,
     "metadata": {},
     "output_type": "execute_result"
    }
   ],
   "source": [
    "# Show summary statistics on Wounded\n",
    "shootings['Wounded'].describe()[['count', 'mean', 'min', 'max']]"
   ]
  },
  {
   "cell_type": "code",
   "execution_count": 15,
   "metadata": {
    "collapsed": true
   },
   "outputs": [],
   "source": [
    "# Make the following fields category types\n",
    "shootings.Gender = shootings.Gender.astype('category')\n",
    "shootings.Race = shootings.Race.astype('category')\n",
    "shootings.Shooting_type = shootings.Shooting_type.astype('category')\n",
    "shootings.Year = shootings.Year.astype('category')\n",
    "shootings.Longitude = shootings.Longitude.astype('category')\n",
    "shootings.Latitude = shootings.Latitude.astype('category')"
   ]
  },
  {
   "cell_type": "code",
   "execution_count": 16,
   "metadata": {
    "collapsed": false
   },
   "outputs": [
    {
     "name": "stdout",
     "output_type": "stream",
     "text": [
      "<class 'pandas.core.frame.DataFrame'>\n",
      "RangeIndex: 71 entries, 0 to 70\n",
      "Data columns (total 23 columns):\n",
      "Case                             71 non-null object\n",
      "Shooting_type                    71 non-null category\n",
      "Shooter_name                     71 non-null object\n",
      "Gender                           71 non-null category\n",
      "Race                             71 non-null category\n",
      "City                             71 non-null object\n",
      "State                            71 non-null object\n",
      "Year                             71 non-null category\n",
      "Summary                          71 non-null object\n",
      "Fatalities                       71 non-null int64\n",
      "Wounded                          71 non-null int64\n",
      "Total_victims                    71 non-null int64\n",
      "Location_type                    71 non-null object\n",
      "Prior_signs_of_mental_illness    71 non-null object\n",
      "Mental_health_notes              67 non-null object\n",
      "Weapons_obtained_legally         71 non-null object\n",
      "Where_weapon_obtained            71 non-null object\n",
      "Type_of_weapons                  71 non-null object\n",
      "Weapon_details                   71 non-null object\n",
      "Sources                          71 non-null object\n",
      "Mental_Health_Sources            67 non-null object\n",
      "Latitude                         71 non-null category\n",
      "Longitude                        71 non-null category\n",
      "dtypes: category(6), int64(3), object(14)\n",
      "memory usage: 11.4+ KB\n"
     ]
    }
   ],
   "source": [
    "# Information on the data set - Notice new column types\n",
    "shootings.info()"
   ]
  },
  {
   "cell_type": "code",
   "execution_count": 17,
   "metadata": {
    "collapsed": false
   },
   "outputs": [
    {
     "data": {
      "text/plain": [
       "Index(['Female', 'Male'], dtype='object')"
      ]
     },
     "execution_count": 17,
     "metadata": {},
     "output_type": "execute_result"
    }
   ],
   "source": [
    "# Show unique values for Gender\n",
    "shootings.Gender.cat.categories"
   ]
  },
  {
   "cell_type": "code",
   "execution_count": 18,
   "metadata": {
    "collapsed": false
   },
   "outputs": [
    {
     "data": {
      "text/plain": [
       "Index(['Asian', 'Black', 'Latino', 'Middle Eastern', 'Native American',\n",
       "       'Other', 'White'],\n",
       "      dtype='object')"
      ]
     },
     "execution_count": 18,
     "metadata": {},
     "output_type": "execute_result"
    }
   ],
   "source": [
    "# Show unique values for Race\n",
    "shootings.Race.cat.categories"
   ]
  },
  {
   "cell_type": "code",
   "execution_count": 19,
   "metadata": {
    "collapsed": false
   },
   "outputs": [
    {
     "data": {
      "text/plain": [
       "Index(['Mass', 'Spree'], dtype='object')"
      ]
     },
     "execution_count": 19,
     "metadata": {},
     "output_type": "execute_result"
    }
   ],
   "source": [
    "# Show unique values for Shooting_type\n",
    "shootings.Shooting_type.cat.categories"
   ]
  },
  {
   "cell_type": "markdown",
   "metadata": {},
   "source": [
    "---"
   ]
  },
  {
   "cell_type": "markdown",
   "metadata": {
    "collapsed": true
   },
   "source": [
    "# Data Analysis (Numbers and Visualization)"
   ]
  },
  {
   "cell_type": "code",
   "execution_count": 20,
   "metadata": {
    "collapsed": true
   },
   "outputs": [],
   "source": [
    "# Imports\n",
    "from matplotlib import pyplot as plt\n",
    "import seaborn as sns\n",
    "%matplotlib inline\n",
    "import warnings\n",
    "warnings.filterwarnings('ignore')"
   ]
  },
  {
   "cell_type": "code",
   "execution_count": 21,
   "metadata": {
    "collapsed": false
   },
   "outputs": [
    {
     "data": {
      "text/html": [
       "<div>\n",
       "<table border=\"1\" class=\"dataframe\">\n",
       "  <thead>\n",
       "    <tr style=\"text-align: right;\">\n",
       "      <th></th>\n",
       "      <th>Fatalities</th>\n",
       "      <th>Wounded</th>\n",
       "      <th>Total_victims</th>\n",
       "    </tr>\n",
       "    <tr>\n",
       "      <th>Shooting_type</th>\n",
       "      <th></th>\n",
       "      <th></th>\n",
       "      <th></th>\n",
       "    </tr>\n",
       "  </thead>\n",
       "  <tbody>\n",
       "    <tr>\n",
       "      <th>Mass</th>\n",
       "      <td>517</td>\n",
       "      <td>450</td>\n",
       "      <td>967</td>\n",
       "    </tr>\n",
       "    <tr>\n",
       "      <th>Spree</th>\n",
       "      <td>54</td>\n",
       "      <td>63</td>\n",
       "      <td>117</td>\n",
       "    </tr>\n",
       "  </tbody>\n",
       "</table>\n",
       "</div>"
      ],
      "text/plain": [
       "               Fatalities  Wounded  Total_victims\n",
       "Shooting_type                                    \n",
       "Mass                  517      450            967\n",
       "Spree                  54       63            117"
      ]
     },
     "execution_count": 21,
     "metadata": {},
     "output_type": "execute_result"
    }
   ],
   "source": [
    "# Counts by Shooting type\n",
    "shootings.groupby('Shooting_type').sum()"
   ]
  },
  {
   "cell_type": "markdown",
   "metadata": {},
   "source": [
    "# By Race"
   ]
  },
  {
   "cell_type": "markdown",
   "metadata": {},
   "source": [
    "---"
   ]
  },
  {
   "cell_type": "code",
   "execution_count": 22,
   "metadata": {
    "collapsed": false,
    "scrolled": true
   },
   "outputs": [
    {
     "data": {
      "text/html": [
       "<div>\n",
       "<table border=\"1\" class=\"dataframe\">\n",
       "  <thead>\n",
       "    <tr style=\"text-align: right;\">\n",
       "      <th></th>\n",
       "      <th></th>\n",
       "      <th>Fatalities</th>\n",
       "      <th>Wounded</th>\n",
       "      <th>Total_victims</th>\n",
       "    </tr>\n",
       "    <tr>\n",
       "      <th>Race</th>\n",
       "      <th>Shooting_type</th>\n",
       "      <th></th>\n",
       "      <th></th>\n",
       "      <th></th>\n",
       "    </tr>\n",
       "  </thead>\n",
       "  <tbody>\n",
       "    <tr>\n",
       "      <th rowspan=\"2\" valign=\"top\">Asian</th>\n",
       "      <th>Mass</th>\n",
       "      <td>72.0</td>\n",
       "      <td>31.0</td>\n",
       "      <td>103.0</td>\n",
       "    </tr>\n",
       "    <tr>\n",
       "      <th>Spree</th>\n",
       "      <td>NaN</td>\n",
       "      <td>NaN</td>\n",
       "      <td>NaN</td>\n",
       "    </tr>\n",
       "    <tr>\n",
       "      <th rowspan=\"2\" valign=\"top\">Black</th>\n",
       "      <th>Mass</th>\n",
       "      <td>71.0</td>\n",
       "      <td>45.0</td>\n",
       "      <td>116.0</td>\n",
       "    </tr>\n",
       "    <tr>\n",
       "      <th>Spree</th>\n",
       "      <td>NaN</td>\n",
       "      <td>NaN</td>\n",
       "      <td>NaN</td>\n",
       "    </tr>\n",
       "    <tr>\n",
       "      <th rowspan=\"2\" valign=\"top\">Latino</th>\n",
       "      <th>Mass</th>\n",
       "      <td>22.0</td>\n",
       "      <td>12.0</td>\n",
       "      <td>34.0</td>\n",
       "    </tr>\n",
       "    <tr>\n",
       "      <th>Spree</th>\n",
       "      <td>NaN</td>\n",
       "      <td>NaN</td>\n",
       "      <td>NaN</td>\n",
       "    </tr>\n",
       "    <tr>\n",
       "      <th rowspan=\"2\" valign=\"top\">Middle Eastern</th>\n",
       "      <th>Mass</th>\n",
       "      <td>5.0</td>\n",
       "      <td>2.0</td>\n",
       "      <td>7.0</td>\n",
       "    </tr>\n",
       "    <tr>\n",
       "      <th>Spree</th>\n",
       "      <td>NaN</td>\n",
       "      <td>NaN</td>\n",
       "      <td>NaN</td>\n",
       "    </tr>\n",
       "    <tr>\n",
       "      <th rowspan=\"2\" valign=\"top\">Native American</th>\n",
       "      <th>Mass</th>\n",
       "      <td>9.0</td>\n",
       "      <td>3.0</td>\n",
       "      <td>12.0</td>\n",
       "    </tr>\n",
       "    <tr>\n",
       "      <th>Spree</th>\n",
       "      <td>10.0</td>\n",
       "      <td>5.0</td>\n",
       "      <td>15.0</td>\n",
       "    </tr>\n",
       "    <tr>\n",
       "      <th rowspan=\"2\" valign=\"top\">Other</th>\n",
       "      <th>Mass</th>\n",
       "      <td>13.0</td>\n",
       "      <td>30.0</td>\n",
       "      <td>43.0</td>\n",
       "    </tr>\n",
       "    <tr>\n",
       "      <th>Spree</th>\n",
       "      <td>NaN</td>\n",
       "      <td>NaN</td>\n",
       "      <td>NaN</td>\n",
       "    </tr>\n",
       "    <tr>\n",
       "      <th rowspan=\"2\" valign=\"top\">White</th>\n",
       "      <th>Mass</th>\n",
       "      <td>325.0</td>\n",
       "      <td>327.0</td>\n",
       "      <td>652.0</td>\n",
       "    </tr>\n",
       "    <tr>\n",
       "      <th>Spree</th>\n",
       "      <td>44.0</td>\n",
       "      <td>58.0</td>\n",
       "      <td>102.0</td>\n",
       "    </tr>\n",
       "  </tbody>\n",
       "</table>\n",
       "</div>"
      ],
      "text/plain": [
       "                               Fatalities  Wounded  Total_victims\n",
       "Race            Shooting_type                                    \n",
       "Asian           Mass                 72.0     31.0          103.0\n",
       "                Spree                 NaN      NaN            NaN\n",
       "Black           Mass                 71.0     45.0          116.0\n",
       "                Spree                 NaN      NaN            NaN\n",
       "Latino          Mass                 22.0     12.0           34.0\n",
       "                Spree                 NaN      NaN            NaN\n",
       "Middle Eastern  Mass                  5.0      2.0            7.0\n",
       "                Spree                 NaN      NaN            NaN\n",
       "Native American Mass                  9.0      3.0           12.0\n",
       "                Spree                10.0      5.0           15.0\n",
       "Other           Mass                 13.0     30.0           43.0\n",
       "                Spree                 NaN      NaN            NaN\n",
       "White           Mass                325.0    327.0          652.0\n",
       "                Spree                44.0     58.0          102.0"
      ]
     },
     "execution_count": 22,
     "metadata": {},
     "output_type": "execute_result"
    }
   ],
   "source": [
    "# Looking at shootings by Race, Shooting type, and  impact to victimes wounded or fatal\n",
    "shootings.groupby(['Race', 'Shooting_type']).sum()"
   ]
  },
  {
   "cell_type": "code",
   "execution_count": 23,
   "metadata": {
    "collapsed": false
   },
   "outputs": [
    {
     "data": {
      "text/plain": [
       "Race             Shooting_type\n",
       "Asian            Mass              6\n",
       "Black            Mass             11\n",
       "Latino           Mass              4\n",
       "Middle Eastern   Mass              1\n",
       "Native American  Mass              2\n",
       "                 Spree             1\n",
       "Other            Mass              1\n",
       "White            Mass             38\n",
       "                 Spree             7\n",
       "dtype: int64"
      ]
     },
     "execution_count": 23,
     "metadata": {},
     "output_type": "execute_result"
    }
   ],
   "source": [
    "# Looking at shootings by Race and shooting type\n",
    "shootings[['Race', 'Shooting_type']].groupby(['Race', 'Shooting_type']).size()"
   ]
  },
  {
   "cell_type": "code",
   "execution_count": 24,
   "metadata": {
    "collapsed": false,
    "scrolled": true
   },
   "outputs": [
    {
     "data": {
      "image/png": "[encoded data removed]",
      "text/plain": [
       "<matplotlib.figure.Figure at 0x7f7dc6522eb8>"
      ]
     },
     "metadata": {},
     "output_type": "display_data"
    }
   ],
   "source": [
    "# Plot the shooting data by Race\n",
    "sns.set_style(\"darkgrid\")\n",
    "sns_race = (sns.factorplot(x=\"Race\", hue='Shooting_type', data=shootings, aspect=1.5, kind=\"count\", legend_out=False, \\\n",
    "                        palette=\"muted\").add_legend(title=\"Shooting Type\"))\n",
    "sns_race.set_xticklabels(rotation=45)\n",
    "sns_race.set(xlabel='Race', ylabel='Count')\n",
    "plt.gcf().subplots_adjust(bottom=0.35)\n",
    "plt.gcf().subplots_adjust(left=0.10)\n",
    "plt.savefig('/tmp/ByRace.jpg')"
   ]
  },
  {
   "cell_type": "markdown",
   "metadata": {},
   "source": [
    "# By State"
   ]
  },
  {
   "cell_type": "markdown",
   "metadata": {},
   "source": [
    "---"
   ]
  },
  {
   "cell_type": "code",
   "execution_count": 25,
   "metadata": {
    "collapsed": false
   },
   "outputs": [
    {
     "data": {
      "text/html": [
       "<div>\n",
       "<table border=\"1\" class=\"dataframe\">\n",
       "  <thead>\n",
       "    <tr style=\"text-align: right;\">\n",
       "      <th></th>\n",
       "      <th></th>\n",
       "      <th>Fatalities</th>\n",
       "      <th>Wounded</th>\n",
       "      <th>Total_victims</th>\n",
       "    </tr>\n",
       "    <tr>\n",
       "      <th>State</th>\n",
       "      <th>Shooting_type</th>\n",
       "      <th></th>\n",
       "      <th></th>\n",
       "      <th></th>\n",
       "    </tr>\n",
       "  </thead>\n",
       "  <tbody>\n",
       "    <tr>\n",
       "      <th rowspan=\"2\" valign=\"top\">Arizona</th>\n",
       "      <th>Mass</th>\n",
       "      <td>6.0</td>\n",
       "      <td>13.0</td>\n",
       "      <td>19.0</td>\n",
       "    </tr>\n",
       "    <tr>\n",
       "      <th>Spree</th>\n",
       "      <td>NaN</td>\n",
       "      <td>NaN</td>\n",
       "      <td>NaN</td>\n",
       "    </tr>\n",
       "    <tr>\n",
       "      <th rowspan=\"2\" valign=\"top\">Arkansas</th>\n",
       "      <th>Mass</th>\n",
       "      <td>5.0</td>\n",
       "      <td>10.0</td>\n",
       "      <td>15.0</td>\n",
       "    </tr>\n",
       "    <tr>\n",
       "      <th>Spree</th>\n",
       "      <td>NaN</td>\n",
       "      <td>NaN</td>\n",
       "      <td>NaN</td>\n",
       "    </tr>\n",
       "    <tr>\n",
       "      <th rowspan=\"2\" valign=\"top\">California</th>\n",
       "      <th>Mass</th>\n",
       "      <td>72.0</td>\n",
       "      <td>76.0</td>\n",
       "      <td>148.0</td>\n",
       "    </tr>\n",
       "    <tr>\n",
       "      <th>Spree</th>\n",
       "      <td>14.0</td>\n",
       "      <td>3.0</td>\n",
       "      <td>17.0</td>\n",
       "    </tr>\n",
       "    <tr>\n",
       "      <th rowspan=\"2\" valign=\"top\">Colorado</th>\n",
       "      <th>Mass</th>\n",
       "      <td>31.0</td>\n",
       "      <td>83.0</td>\n",
       "      <td>114.0</td>\n",
       "    </tr>\n",
       "    <tr>\n",
       "      <th>Spree</th>\n",
       "      <td>NaN</td>\n",
       "      <td>NaN</td>\n",
       "      <td>NaN</td>\n",
       "    </tr>\n",
       "    <tr>\n",
       "      <th rowspan=\"2\" valign=\"top\">Connecticut</th>\n",
       "      <th>Mass</th>\n",
       "      <td>42.0</td>\n",
       "      <td>5.0</td>\n",
       "      <td>47.0</td>\n",
       "    </tr>\n",
       "    <tr>\n",
       "      <th>Spree</th>\n",
       "      <td>NaN</td>\n",
       "      <td>NaN</td>\n",
       "      <td>NaN</td>\n",
       "    </tr>\n",
       "    <tr>\n",
       "      <th rowspan=\"2\" valign=\"top\">D.C.</th>\n",
       "      <th>Mass</th>\n",
       "      <td>12.0</td>\n",
       "      <td>8.0</td>\n",
       "      <td>20.0</td>\n",
       "    </tr>\n",
       "    <tr>\n",
       "      <th>Spree</th>\n",
       "      <td>NaN</td>\n",
       "      <td>NaN</td>\n",
       "      <td>NaN</td>\n",
       "    </tr>\n",
       "    <tr>\n",
       "      <th rowspan=\"2\" valign=\"top\">Florida</th>\n",
       "      <th>Mass</th>\n",
       "      <td>36.0</td>\n",
       "      <td>11.0</td>\n",
       "      <td>47.0</td>\n",
       "    </tr>\n",
       "    <tr>\n",
       "      <th>Spree</th>\n",
       "      <td>6.0</td>\n",
       "      <td>14.0</td>\n",
       "      <td>20.0</td>\n",
       "    </tr>\n",
       "    <tr>\n",
       "      <th rowspan=\"2\" valign=\"top\">Georgia</th>\n",
       "      <th>Mass</th>\n",
       "      <td>5.0</td>\n",
       "      <td>0.0</td>\n",
       "      <td>5.0</td>\n",
       "    </tr>\n",
       "    <tr>\n",
       "      <th>Spree</th>\n",
       "      <td>9.0</td>\n",
       "      <td>13.0</td>\n",
       "      <td>22.0</td>\n",
       "    </tr>\n",
       "    <tr>\n",
       "      <th rowspan=\"2\" valign=\"top\">Hawaii</th>\n",
       "      <th>Mass</th>\n",
       "      <td>7.0</td>\n",
       "      <td>0.0</td>\n",
       "      <td>7.0</td>\n",
       "    </tr>\n",
       "    <tr>\n",
       "      <th>Spree</th>\n",
       "      <td>NaN</td>\n",
       "      <td>NaN</td>\n",
       "      <td>NaN</td>\n",
       "    </tr>\n",
       "    <tr>\n",
       "      <th rowspan=\"2\" valign=\"top\">Illinois</th>\n",
       "      <th>Mass</th>\n",
       "      <td>11.0</td>\n",
       "      <td>25.0</td>\n",
       "      <td>36.0</td>\n",
       "    </tr>\n",
       "    <tr>\n",
       "      <th>Spree</th>\n",
       "      <td>NaN</td>\n",
       "      <td>NaN</td>\n",
       "      <td>NaN</td>\n",
       "    </tr>\n",
       "    <tr>\n",
       "      <th rowspan=\"2\" valign=\"top\">Iowa</th>\n",
       "      <th>Mass</th>\n",
       "      <td>6.0</td>\n",
       "      <td>1.0</td>\n",
       "      <td>7.0</td>\n",
       "    </tr>\n",
       "    <tr>\n",
       "      <th>Spree</th>\n",
       "      <td>NaN</td>\n",
       "      <td>NaN</td>\n",
       "      <td>NaN</td>\n",
       "    </tr>\n",
       "    <tr>\n",
       "      <th rowspan=\"2\" valign=\"top\">Kentucky</th>\n",
       "      <th>Mass</th>\n",
       "      <td>15.0</td>\n",
       "      <td>13.0</td>\n",
       "      <td>28.0</td>\n",
       "    </tr>\n",
       "    <tr>\n",
       "      <th>Spree</th>\n",
       "      <td>NaN</td>\n",
       "      <td>NaN</td>\n",
       "      <td>NaN</td>\n",
       "    </tr>\n",
       "    <tr>\n",
       "      <th rowspan=\"2\" valign=\"top\">Massachusetts</th>\n",
       "      <th>Mass</th>\n",
       "      <td>7.0</td>\n",
       "      <td>0.0</td>\n",
       "      <td>7.0</td>\n",
       "    </tr>\n",
       "    <tr>\n",
       "      <th>Spree</th>\n",
       "      <td>NaN</td>\n",
       "      <td>NaN</td>\n",
       "      <td>NaN</td>\n",
       "    </tr>\n",
       "    <tr>\n",
       "      <th rowspan=\"2\" valign=\"top\">Michigan</th>\n",
       "      <th>Mass</th>\n",
       "      <td>5.0</td>\n",
       "      <td>5.0</td>\n",
       "      <td>10.0</td>\n",
       "    </tr>\n",
       "    <tr>\n",
       "      <th>Spree</th>\n",
       "      <td>NaN</td>\n",
       "      <td>NaN</td>\n",
       "      <td>NaN</td>\n",
       "    </tr>\n",
       "    <tr>\n",
       "      <th rowspan=\"2\" valign=\"top\">Minnesota</th>\n",
       "      <th>Mass</th>\n",
       "      <td>7.0</td>\n",
       "      <td>1.0</td>\n",
       "      <td>8.0</td>\n",
       "    </tr>\n",
       "    <tr>\n",
       "      <th>Spree</th>\n",
       "      <td>10.0</td>\n",
       "      <td>5.0</td>\n",
       "      <td>15.0</td>\n",
       "    </tr>\n",
       "    <tr>\n",
       "      <th>...</th>\n",
       "      <th>...</th>\n",
       "      <td>...</td>\n",
       "      <td>...</td>\n",
       "      <td>...</td>\n",
       "    </tr>\n",
       "    <tr>\n",
       "      <th rowspan=\"2\" valign=\"top\">Nebraska</th>\n",
       "      <th>Mass</th>\n",
       "      <td>9.0</td>\n",
       "      <td>4.0</td>\n",
       "      <td>13.0</td>\n",
       "    </tr>\n",
       "    <tr>\n",
       "      <th>Spree</th>\n",
       "      <td>NaN</td>\n",
       "      <td>NaN</td>\n",
       "      <td>NaN</td>\n",
       "    </tr>\n",
       "    <tr>\n",
       "      <th rowspan=\"2\" valign=\"top\">Nevada</th>\n",
       "      <th>Mass</th>\n",
       "      <td>5.0</td>\n",
       "      <td>7.0</td>\n",
       "      <td>12.0</td>\n",
       "    </tr>\n",
       "    <tr>\n",
       "      <th>Spree</th>\n",
       "      <td>NaN</td>\n",
       "      <td>NaN</td>\n",
       "      <td>NaN</td>\n",
       "    </tr>\n",
       "    <tr>\n",
       "      <th rowspan=\"2\" valign=\"top\">New York</th>\n",
       "      <th>Mass</th>\n",
       "      <td>25.0</td>\n",
       "      <td>23.0</td>\n",
       "      <td>48.0</td>\n",
       "    </tr>\n",
       "    <tr>\n",
       "      <th>Spree</th>\n",
       "      <td>5.0</td>\n",
       "      <td>2.0</td>\n",
       "      <td>7.0</td>\n",
       "    </tr>\n",
       "    <tr>\n",
       "      <th rowspan=\"2\" valign=\"top\">North Carolina</th>\n",
       "      <th>Mass</th>\n",
       "      <td>12.0</td>\n",
       "      <td>11.0</td>\n",
       "      <td>23.0</td>\n",
       "    </tr>\n",
       "    <tr>\n",
       "      <th>Spree</th>\n",
       "      <td>NaN</td>\n",
       "      <td>NaN</td>\n",
       "      <td>NaN</td>\n",
       "    </tr>\n",
       "    <tr>\n",
       "      <th rowspan=\"2\" valign=\"top\">Ohio</th>\n",
       "      <th>Mass</th>\n",
       "      <td>5.0</td>\n",
       "      <td>7.0</td>\n",
       "      <td>12.0</td>\n",
       "    </tr>\n",
       "    <tr>\n",
       "      <th>Spree</th>\n",
       "      <td>NaN</td>\n",
       "      <td>NaN</td>\n",
       "      <td>NaN</td>\n",
       "    </tr>\n",
       "    <tr>\n",
       "      <th rowspan=\"2\" valign=\"top\">Oklahoma</th>\n",
       "      <th>Mass</th>\n",
       "      <td>15.0</td>\n",
       "      <td>6.0</td>\n",
       "      <td>21.0</td>\n",
       "    </tr>\n",
       "    <tr>\n",
       "      <th>Spree</th>\n",
       "      <td>NaN</td>\n",
       "      <td>NaN</td>\n",
       "      <td>NaN</td>\n",
       "    </tr>\n",
       "    <tr>\n",
       "      <th rowspan=\"2\" valign=\"top\">Oregon</th>\n",
       "      <th>Mass</th>\n",
       "      <td>NaN</td>\n",
       "      <td>NaN</td>\n",
       "      <td>NaN</td>\n",
       "    </tr>\n",
       "    <tr>\n",
       "      <th>Spree</th>\n",
       "      <td>4.0</td>\n",
       "      <td>25.0</td>\n",
       "      <td>29.0</td>\n",
       "    </tr>\n",
       "    <tr>\n",
       "      <th rowspan=\"2\" valign=\"top\">Pennsylvania</th>\n",
       "      <th>Mass</th>\n",
       "      <td>6.0</td>\n",
       "      <td>5.0</td>\n",
       "      <td>11.0</td>\n",
       "    </tr>\n",
       "    <tr>\n",
       "      <th>Spree</th>\n",
       "      <td>NaN</td>\n",
       "      <td>NaN</td>\n",
       "      <td>NaN</td>\n",
       "    </tr>\n",
       "    <tr>\n",
       "      <th rowspan=\"2\" valign=\"top\">South Carolina</th>\n",
       "      <th>Mass</th>\n",
       "      <td>13.0</td>\n",
       "      <td>4.0</td>\n",
       "      <td>17.0</td>\n",
       "    </tr>\n",
       "    <tr>\n",
       "      <th>Spree</th>\n",
       "      <td>NaN</td>\n",
       "      <td>NaN</td>\n",
       "      <td>NaN</td>\n",
       "    </tr>\n",
       "    <tr>\n",
       "      <th rowspan=\"2\" valign=\"top\">Tennessee</th>\n",
       "      <th>Mass</th>\n",
       "      <td>5.0</td>\n",
       "      <td>2.0</td>\n",
       "      <td>7.0</td>\n",
       "    </tr>\n",
       "    <tr>\n",
       "      <th>Spree</th>\n",
       "      <td>NaN</td>\n",
       "      <td>NaN</td>\n",
       "      <td>NaN</td>\n",
       "    </tr>\n",
       "    <tr>\n",
       "      <th rowspan=\"2\" valign=\"top\">Texas</th>\n",
       "      <th>Mass</th>\n",
       "      <td>57.0</td>\n",
       "      <td>58.0</td>\n",
       "      <td>115.0</td>\n",
       "    </tr>\n",
       "    <tr>\n",
       "      <th>Spree</th>\n",
       "      <td>NaN</td>\n",
       "      <td>NaN</td>\n",
       "      <td>NaN</td>\n",
       "    </tr>\n",
       "    <tr>\n",
       "      <th rowspan=\"2\" valign=\"top\">Utah</th>\n",
       "      <th>Mass</th>\n",
       "      <td>6.0</td>\n",
       "      <td>4.0</td>\n",
       "      <td>10.0</td>\n",
       "    </tr>\n",
       "    <tr>\n",
       "      <th>Spree</th>\n",
       "      <td>NaN</td>\n",
       "      <td>NaN</td>\n",
       "      <td>NaN</td>\n",
       "    </tr>\n",
       "    <tr>\n",
       "      <th rowspan=\"2\" valign=\"top\">Virginia</th>\n",
       "      <th>Mass</th>\n",
       "      <td>33.0</td>\n",
       "      <td>23.0</td>\n",
       "      <td>56.0</td>\n",
       "    </tr>\n",
       "    <tr>\n",
       "      <th>Spree</th>\n",
       "      <td>NaN</td>\n",
       "      <td>NaN</td>\n",
       "      <td>NaN</td>\n",
       "    </tr>\n",
       "    <tr>\n",
       "      <th rowspan=\"2\" valign=\"top\">Washington</th>\n",
       "      <th>Mass</th>\n",
       "      <td>26.0</td>\n",
       "      <td>27.0</td>\n",
       "      <td>53.0</td>\n",
       "    </tr>\n",
       "    <tr>\n",
       "      <th>Spree</th>\n",
       "      <td>6.0</td>\n",
       "      <td>1.0</td>\n",
       "      <td>7.0</td>\n",
       "    </tr>\n",
       "    <tr>\n",
       "      <th rowspan=\"2\" valign=\"top\">Wisconsin</th>\n",
       "      <th>Mass</th>\n",
       "      <td>20.0</td>\n",
       "      <td>8.0</td>\n",
       "      <td>28.0</td>\n",
       "    </tr>\n",
       "    <tr>\n",
       "      <th>Spree</th>\n",
       "      <td>NaN</td>\n",
       "      <td>NaN</td>\n",
       "      <td>NaN</td>\n",
       "    </tr>\n",
       "  </tbody>\n",
       "</table>\n",
       "<p>64 rows × 3 columns</p>\n",
       "</div>"
      ],
      "text/plain": [
       "                               Fatalities  Wounded  Total_victims\n",
       "State           Shooting_type                                    \n",
       " Arizona        Mass                  6.0     13.0           19.0\n",
       "                Spree                 NaN      NaN            NaN\n",
       " Arkansas       Mass                  5.0     10.0           15.0\n",
       "                Spree                 NaN      NaN            NaN\n",
       " California     Mass                 72.0     76.0          148.0\n",
       "                Spree                14.0      3.0           17.0\n",
       " Colorado       Mass                 31.0     83.0          114.0\n",
       "                Spree                 NaN      NaN            NaN\n",
       " Connecticut    Mass                 42.0      5.0           47.0\n",
       "                Spree                 NaN      NaN            NaN\n",
       " D.C.           Mass                 12.0      8.0           20.0\n",
       "                Spree                 NaN      NaN            NaN\n",
       " Florida        Mass                 36.0     11.0           47.0\n",
       "                Spree                 6.0     14.0           20.0\n",
       " Georgia        Mass                  5.0      0.0            5.0\n",
       "                Spree                 9.0     13.0           22.0\n",
       " Hawaii         Mass                  7.0      0.0            7.0\n",
       "                Spree                 NaN      NaN            NaN\n",
       " Illinois       Mass                 11.0     25.0           36.0\n",
       "                Spree                 NaN      NaN            NaN\n",
       " Iowa           Mass                  6.0      1.0            7.0\n",
       "                Spree                 NaN      NaN            NaN\n",
       " Kentucky       Mass                 15.0     13.0           28.0\n",
       "                Spree                 NaN      NaN            NaN\n",
       " Massachusetts  Mass                  7.0      0.0            7.0\n",
       "                Spree                 NaN      NaN            NaN\n",
       " Michigan       Mass                  5.0      5.0           10.0\n",
       "                Spree                 NaN      NaN            NaN\n",
       " Minnesota      Mass                  7.0      1.0            8.0\n",
       "                Spree                10.0      5.0           15.0\n",
       "...                                   ...      ...            ...\n",
       " Nebraska       Mass                  9.0      4.0           13.0\n",
       "                Spree                 NaN      NaN            NaN\n",
       " Nevada         Mass                  5.0      7.0           12.0\n",
       "                Spree                 NaN      NaN            NaN\n",
       " New York       Mass                 25.0     23.0           48.0\n",
       "                Spree                 5.0      2.0            7.0\n",
       " North Carolina Mass                 12.0     11.0           23.0\n",
       "                Spree                 NaN      NaN            NaN\n",
       " Ohio           Mass                  5.0      7.0           12.0\n",
       "                Spree                 NaN      NaN            NaN\n",
       " Oklahoma       Mass                 15.0      6.0           21.0\n",
       "                Spree                 NaN      NaN            NaN\n",
       " Oregon         Mass                  NaN      NaN            NaN\n",
       "                Spree                 4.0     25.0           29.0\n",
       " Pennsylvania   Mass                  6.0      5.0           11.0\n",
       "                Spree                 NaN      NaN            NaN\n",
       " South Carolina Mass                 13.0      4.0           17.0\n",
       "                Spree                 NaN      NaN            NaN\n",
       " Tennessee      Mass                  5.0      2.0            7.0\n",
       "                Spree                 NaN      NaN            NaN\n",
       " Texas          Mass                 57.0     58.0          115.0\n",
       "                Spree                 NaN      NaN            NaN\n",
       " Utah           Mass                  6.0      4.0           10.0\n",
       "                Spree                 NaN      NaN            NaN\n",
       " Virginia       Mass                 33.0     23.0           56.0\n",
       "                Spree                 NaN      NaN            NaN\n",
       " Washington     Mass                 26.0     27.0           53.0\n",
       "                Spree                 6.0      1.0            7.0\n",
       " Wisconsin      Mass                 20.0      8.0           28.0\n",
       "                Spree                 NaN      NaN            NaN\n",
       "\n",
       "[64 rows x 3 columns]"
      ]
     },
     "execution_count": 25,
     "metadata": {},
     "output_type": "execute_result"
    }
   ],
   "source": [
    "# Looking at shootings by State, Shooting type, and  impact to victimes wounded or fatal\n",
    "shootings.groupby(['State', 'Shooting_type']).sum()"
   ]
  },
  {
   "cell_type": "code",
   "execution_count": 26,
   "metadata": {
    "collapsed": false
   },
   "outputs": [
    {
     "data": {
      "text/plain": [
       "State            Shooting_type\n",
       " Arizona         Mass             1\n",
       " Arkansas        Mass             1\n",
       " California      Mass             9\n",
       "                 Spree            2\n",
       " Colorado        Mass             3\n",
       " Connecticut     Mass             3\n",
       " D.C.            Mass             1\n",
       " Florida         Mass             5\n",
       "                 Spree            1\n",
       " Georgia         Mass             1\n",
       "                 Spree            1\n",
       " Hawaii          Mass             1\n",
       " Illinois        Mass             2\n",
       " Iowa            Mass             1\n",
       " Kentucky        Mass             2\n",
       " Massachusetts   Mass             1\n",
       " Michigan        Mass             1\n",
       " Minnesota       Mass             1\n",
       "                 Spree            1\n",
       " Mississippi     Mass             1\n",
       " Missouri        Mass             1\n",
       " Nebraska        Mass             1\n",
       " Nevada          Mass             1\n",
       " New York        Mass             3\n",
       "                 Spree            1\n",
       " North Carolina  Mass             2\n",
       " Ohio            Mass             1\n",
       " Oklahoma        Mass             1\n",
       " Oregon          Spree            1\n",
       " Pennsylvania    Mass             1\n",
       " South Carolina  Mass             2\n",
       " Tennessee       Mass             1\n",
       " Texas           Mass             5\n",
       " Utah            Mass             1\n",
       " Virginia        Mass             1\n",
       " Washington      Mass             5\n",
       "                 Spree            1\n",
       " Wisconsin       Mass             3\n",
       "dtype: int64"
      ]
     },
     "execution_count": 26,
     "metadata": {},
     "output_type": "execute_result"
    }
   ],
   "source": [
    "# Looking at shootings by State and shooting type\n",
    "shootings[['State', 'Shooting_type']].groupby(['State', 'Shooting_type']).size()"
   ]
  },
  {
   "cell_type": "code",
   "execution_count": 27,
   "metadata": {
    "collapsed": false,
    "scrolled": true
   },
   "outputs": [
    {
     "data": {
      "image/png": "[encoded data removed]",
      "text/plain": [
       "<matplotlib.figure.Figure at 0x7f7dc4152fd0>"
      ]
     },
     "metadata": {},
     "output_type": "display_data"
    }
   ],
   "source": [
    "# Plot the shooting data by State\n",
    "sns.set_style(\"darkgrid\")\n",
    "order_by_state = shootings.sort(['State'])\n",
    "sns_state = sns.factorplot(x=\"State\", hue='Shooting_type', data=order_by_state, aspect=1.5, kind=\"count\", legend_out=False, \\\n",
    "                         palette=\"muted\")\n",
    "sns_state.set_xticklabels(rotation=90)\n",
    "sns_state.axes[0][0].legend(title=\"Shooting Type\")\n",
    "sns_state.set(xlabel='State', ylabel='Count')\n",
    "plt.gcf().subplots_adjust(bottom=0.35)\n",
    "plt.gcf().subplots_adjust(left=0.10)\n",
    "plt.savefig('/tmp/ByState.jpg')"
   ]
  },
  {
   "cell_type": "markdown",
   "metadata": {
    "collapsed": true
   },
   "source": [
    "# By Gender"
   ]
  },
  {
   "cell_type": "markdown",
   "metadata": {},
   "source": [
    "---"
   ]
  },
  {
   "cell_type": "code",
   "execution_count": 28,
   "metadata": {
    "collapsed": false
   },
   "outputs": [
    {
     "data": {
      "text/html": [
       "<div>\n",
       "<table border=\"1\" class=\"dataframe\">\n",
       "  <thead>\n",
       "    <tr style=\"text-align: right;\">\n",
       "      <th></th>\n",
       "      <th></th>\n",
       "      <th>Fatalities</th>\n",
       "      <th>Wounded</th>\n",
       "      <th>Total_victims</th>\n",
       "    </tr>\n",
       "    <tr>\n",
       "      <th>Gender</th>\n",
       "      <th>Shooting_type</th>\n",
       "      <th></th>\n",
       "      <th></th>\n",
       "      <th></th>\n",
       "    </tr>\n",
       "  </thead>\n",
       "  <tbody>\n",
       "    <tr>\n",
       "      <th rowspan=\"2\" valign=\"top\">Female</th>\n",
       "      <th>Mass</th>\n",
       "      <td>4</td>\n",
       "      <td>2</td>\n",
       "      <td>6</td>\n",
       "    </tr>\n",
       "    <tr>\n",
       "      <th>Spree</th>\n",
       "      <td>8</td>\n",
       "      <td>0</td>\n",
       "      <td>8</td>\n",
       "    </tr>\n",
       "    <tr>\n",
       "      <th rowspan=\"2\" valign=\"top\">Male</th>\n",
       "      <th>Mass</th>\n",
       "      <td>513</td>\n",
       "      <td>448</td>\n",
       "      <td>961</td>\n",
       "    </tr>\n",
       "    <tr>\n",
       "      <th>Spree</th>\n",
       "      <td>46</td>\n",
       "      <td>63</td>\n",
       "      <td>109</td>\n",
       "    </tr>\n",
       "  </tbody>\n",
       "</table>\n",
       "</div>"
      ],
      "text/plain": [
       "                      Fatalities  Wounded  Total_victims\n",
       "Gender Shooting_type                                    \n",
       "Female Mass                    4        2              6\n",
       "       Spree                   8        0              8\n",
       "Male   Mass                  513      448            961\n",
       "       Spree                  46       63            109"
      ]
     },
     "execution_count": 28,
     "metadata": {},
     "output_type": "execute_result"
    }
   ],
   "source": [
    "# Looking at shootings by Gender, Shooting type, and  impact to victimes wounded or fatal\n",
    "shootings.groupby(['Gender', 'Shooting_type']).sum()"
   ]
  },
  {
   "cell_type": "code",
   "execution_count": 29,
   "metadata": {
    "collapsed": false
   },
   "outputs": [
    {
     "data": {
      "text/plain": [
       "Gender  Shooting_type\n",
       "Female  Mass              1\n",
       "        Spree             1\n",
       "Male    Mass             62\n",
       "        Spree             7\n",
       "dtype: int64"
      ]
     },
     "execution_count": 29,
     "metadata": {},
     "output_type": "execute_result"
    }
   ],
   "source": [
    "# Looking at shootings by State and shooting type\n",
    "shootings[['Gender', 'Shooting_type']].groupby(['Gender', 'Shooting_type']).size()"
   ]
  },
  {
   "cell_type": "code",
   "execution_count": 30,
   "metadata": {
    "collapsed": false
   },
   "outputs": [
    {
     "data": {
      "image/png": "[encoded data removed]",
      "text/plain": [
       "<matplotlib.figure.Figure at 0x7f7dc6522550>"
      ]
     },
     "metadata": {},
     "output_type": "display_data"
    }
   ],
   "source": [
    "# Plot the shooting data by Gender\n",
    "sns.set_style(\"darkgrid\")\n",
    "sns_gender = sns.factorplot(x=\"Gender\", hue='Shooting_type', data=order_by_state, aspect=1.5, kind=\"count\", legend_out=False, \\\n",
    "                         palette=\"muted\")\n",
    "sns_gender.axes[0][0].legend(title=\"Shooting Type\")\n",
    "sns_gender.set(xlabel='Gender', ylabel='Count')\n",
    "plt.gcf().subplots_adjust(bottom=0.35)\n",
    "plt.gcf().subplots_adjust(left=0.10)\n",
    "plt.savefig('/tmp/ByGender.jpg')"
   ]
  },
  {
   "cell_type": "markdown",
   "metadata": {},
   "source": [
    "# By Prior Signs of Mental Illness"
   ]
  },
  {
   "cell_type": "markdown",
   "metadata": {},
   "source": [
    "---"
   ]
  },
  {
   "cell_type": "code",
   "execution_count": 31,
   "metadata": {
    "collapsed": false
   },
   "outputs": [
    {
     "data": {
      "text/html": [
       "<div>\n",
       "<table border=\"1\" class=\"dataframe\">\n",
       "  <thead>\n",
       "    <tr style=\"text-align: right;\">\n",
       "      <th></th>\n",
       "      <th></th>\n",
       "      <th>Fatalities</th>\n",
       "      <th>Wounded</th>\n",
       "      <th>Total_victims</th>\n",
       "    </tr>\n",
       "    <tr>\n",
       "      <th>Prior_signs_of_mental_illness</th>\n",
       "      <th>Shooting_type</th>\n",
       "      <th></th>\n",
       "      <th></th>\n",
       "      <th></th>\n",
       "    </tr>\n",
       "  </thead>\n",
       "  <tbody>\n",
       "    <tr>\n",
       "      <th rowspan=\"2\" valign=\"top\">No</th>\n",
       "      <th>Mass</th>\n",
       "      <td>143</td>\n",
       "      <td>85</td>\n",
       "      <td>228</td>\n",
       "    </tr>\n",
       "    <tr>\n",
       "      <th>Spree</th>\n",
       "      <td>5</td>\n",
       "      <td>2</td>\n",
       "      <td>7</td>\n",
       "    </tr>\n",
       "    <tr>\n",
       "      <th rowspan=\"2\" valign=\"top\">Yes</th>\n",
       "      <th>Mass</th>\n",
       "      <td>374</td>\n",
       "      <td>365</td>\n",
       "      <td>739</td>\n",
       "    </tr>\n",
       "    <tr>\n",
       "      <th>Spree</th>\n",
       "      <td>49</td>\n",
       "      <td>61</td>\n",
       "      <td>110</td>\n",
       "    </tr>\n",
       "  </tbody>\n",
       "</table>\n",
       "</div>"
      ],
      "text/plain": [
       "                                             Fatalities  Wounded  \\\n",
       "Prior_signs_of_mental_illness Shooting_type                        \n",
       "No                            Mass                  143       85   \n",
       "                              Spree                   5        2   \n",
       "Yes                           Mass                  374      365   \n",
       "                              Spree                  49       61   \n",
       "\n",
       "                                             Total_victims  \n",
       "Prior_signs_of_mental_illness Shooting_type                 \n",
       "No                            Mass                     228  \n",
       "                              Spree                      7  \n",
       "Yes                           Mass                     739  \n",
       "                              Spree                    110  "
      ]
     },
     "execution_count": 31,
     "metadata": {},
     "output_type": "execute_result"
    }
   ],
   "source": [
    "# Looking at shootings by Mental Illness, Shooting type, and  impact to victimes wounded or fatal\n",
    "shootings.groupby(['Prior_signs_of_mental_illness', 'Shooting_type']).sum()"
   ]
  },
  {
   "cell_type": "code",
   "execution_count": 32,
   "metadata": {
    "collapsed": false
   },
   "outputs": [
    {
     "data": {
      "text/plain": [
       "Prior_signs_of_mental_illness  Shooting_type\n",
       "No                             Mass             21\n",
       "                               Spree             1\n",
       "Yes                            Mass             42\n",
       "                               Spree             7\n",
       "dtype: int64"
      ]
     },
     "execution_count": 32,
     "metadata": {},
     "output_type": "execute_result"
    }
   ],
   "source": [
    "# Looking at shootings by mental illness and shooting type\n",
    "shootings[['Prior_signs_of_mental_illness', 'Shooting_type']].groupby(['Prior_signs_of_mental_illness', \\\n",
    "                                                                       'Shooting_type']).size()"
   ]
  },
  {
   "cell_type": "code",
   "execution_count": 33,
   "metadata": {
    "collapsed": false
   },
   "outputs": [
    {
     "data": {
      "image/png": "[encoded data removed]",
      "text/plain": [
       "<matplotlib.figure.Figure at 0x7f7dc3c3c128>"
      ]
     },
     "metadata": {},
     "output_type": "display_data"
    }
   ],
   "source": [
    "# Plot the shooting data by Mental Illness\n",
    "sns.set_style(\"darkgrid\")\n",
    "sns_mental_illness = sns.factorplot(x=\"Prior_signs_of_mental_illness\", hue='Shooting_type', data=shootings, aspect=1.5, kind=\"count\", legend_out=False, \\\n",
    "                         palette=\"muted\")\n",
    "sns_mental_illness.axes[0][0].legend(title=\"Shooting Type\")\n",
    "sns_mental_illness.set(xlabel='Mental Illness Known', ylabel='Count')\n",
    "plt.gcf().subplots_adjust(bottom=0.35)\n",
    "plt.gcf().subplots_adjust(left=0.10)\n",
    "plt.savefig('/tmp/ByMentalIllness.jpg')"
   ]
  },
  {
   "cell_type": "markdown",
   "metadata": {},
   "source": [
    "# By Year"
   ]
  },
  {
   "cell_type": "markdown",
   "metadata": {},
   "source": [
    "---"
   ]
  },
  {
   "cell_type": "code",
   "execution_count": 34,
   "metadata": {
    "collapsed": false
   },
   "outputs": [
    {
     "data": {
      "text/html": [
       "<div>\n",
       "<table border=\"1\" class=\"dataframe\">\n",
       "  <thead>\n",
       "    <tr style=\"text-align: right;\">\n",
       "      <th></th>\n",
       "      <th></th>\n",
       "      <th>Fatalities</th>\n",
       "      <th>Wounded</th>\n",
       "      <th>Total_victims</th>\n",
       "    </tr>\n",
       "    <tr>\n",
       "      <th>Year</th>\n",
       "      <th>Shooting_type</th>\n",
       "      <th></th>\n",
       "      <th></th>\n",
       "      <th></th>\n",
       "    </tr>\n",
       "  </thead>\n",
       "  <tbody>\n",
       "    <tr>\n",
       "      <th rowspan=\"2\" valign=\"top\">1982</th>\n",
       "      <th>Mass</th>\n",
       "      <td>8.0</td>\n",
       "      <td>3.0</td>\n",
       "      <td>11.0</td>\n",
       "    </tr>\n",
       "    <tr>\n",
       "      <th>Spree</th>\n",
       "      <td>NaN</td>\n",
       "      <td>NaN</td>\n",
       "      <td>NaN</td>\n",
       "    </tr>\n",
       "    <tr>\n",
       "      <th rowspan=\"2\" valign=\"top\">1984</th>\n",
       "      <th>Mass</th>\n",
       "      <td>28.0</td>\n",
       "      <td>20.0</td>\n",
       "      <td>48.0</td>\n",
       "    </tr>\n",
       "    <tr>\n",
       "      <th>Spree</th>\n",
       "      <td>NaN</td>\n",
       "      <td>NaN</td>\n",
       "      <td>NaN</td>\n",
       "    </tr>\n",
       "    <tr>\n",
       "      <th rowspan=\"2\" valign=\"top\">1986</th>\n",
       "      <th>Mass</th>\n",
       "      <td>15.0</td>\n",
       "      <td>6.0</td>\n",
       "      <td>21.0</td>\n",
       "    </tr>\n",
       "    <tr>\n",
       "      <th>Spree</th>\n",
       "      <td>NaN</td>\n",
       "      <td>NaN</td>\n",
       "      <td>NaN</td>\n",
       "    </tr>\n",
       "    <tr>\n",
       "      <th rowspan=\"2\" valign=\"top\">1987</th>\n",
       "      <th>Mass</th>\n",
       "      <td>NaN</td>\n",
       "      <td>NaN</td>\n",
       "      <td>NaN</td>\n",
       "    </tr>\n",
       "    <tr>\n",
       "      <th>Spree</th>\n",
       "      <td>6.0</td>\n",
       "      <td>14.0</td>\n",
       "      <td>20.0</td>\n",
       "    </tr>\n",
       "    <tr>\n",
       "      <th rowspan=\"2\" valign=\"top\">1988</th>\n",
       "      <th>Mass</th>\n",
       "      <td>7.0</td>\n",
       "      <td>4.0</td>\n",
       "      <td>11.0</td>\n",
       "    </tr>\n",
       "    <tr>\n",
       "      <th>Spree</th>\n",
       "      <td>NaN</td>\n",
       "      <td>NaN</td>\n",
       "      <td>NaN</td>\n",
       "    </tr>\n",
       "    <tr>\n",
       "      <th rowspan=\"2\" valign=\"top\">1989</th>\n",
       "      <th>Mass</th>\n",
       "      <td>15.0</td>\n",
       "      <td>41.0</td>\n",
       "      <td>56.0</td>\n",
       "    </tr>\n",
       "    <tr>\n",
       "      <th>Spree</th>\n",
       "      <td>NaN</td>\n",
       "      <td>NaN</td>\n",
       "      <td>NaN</td>\n",
       "    </tr>\n",
       "    <tr>\n",
       "      <th rowspan=\"2\" valign=\"top\">1990</th>\n",
       "      <th>Mass</th>\n",
       "      <td>10.0</td>\n",
       "      <td>4.0</td>\n",
       "      <td>14.0</td>\n",
       "    </tr>\n",
       "    <tr>\n",
       "      <th>Spree</th>\n",
       "      <td>NaN</td>\n",
       "      <td>NaN</td>\n",
       "      <td>NaN</td>\n",
       "    </tr>\n",
       "    <tr>\n",
       "      <th rowspan=\"2\" valign=\"top\">1991</th>\n",
       "      <th>Mass</th>\n",
       "      <td>35.0</td>\n",
       "      <td>26.0</td>\n",
       "      <td>61.0</td>\n",
       "    </tr>\n",
       "    <tr>\n",
       "      <th>Spree</th>\n",
       "      <td>NaN</td>\n",
       "      <td>NaN</td>\n",
       "      <td>NaN</td>\n",
       "    </tr>\n",
       "    <tr>\n",
       "      <th rowspan=\"2\" valign=\"top\">1992</th>\n",
       "      <th>Mass</th>\n",
       "      <td>9.0</td>\n",
       "      <td>10.0</td>\n",
       "      <td>19.0</td>\n",
       "    </tr>\n",
       "    <tr>\n",
       "      <th>Spree</th>\n",
       "      <td>NaN</td>\n",
       "      <td>NaN</td>\n",
       "      <td>NaN</td>\n",
       "    </tr>\n",
       "    <tr>\n",
       "      <th rowspan=\"2\" valign=\"top\">1993</th>\n",
       "      <th>Mass</th>\n",
       "      <td>23.0</td>\n",
       "      <td>34.0</td>\n",
       "      <td>57.0</td>\n",
       "    </tr>\n",
       "    <tr>\n",
       "      <th>Spree</th>\n",
       "      <td>NaN</td>\n",
       "      <td>NaN</td>\n",
       "      <td>NaN</td>\n",
       "    </tr>\n",
       "    <tr>\n",
       "      <th rowspan=\"2\" valign=\"top\">1994</th>\n",
       "      <th>Mass</th>\n",
       "      <td>5.0</td>\n",
       "      <td>23.0</td>\n",
       "      <td>28.0</td>\n",
       "    </tr>\n",
       "    <tr>\n",
       "      <th>Spree</th>\n",
       "      <td>NaN</td>\n",
       "      <td>NaN</td>\n",
       "      <td>NaN</td>\n",
       "    </tr>\n",
       "    <tr>\n",
       "      <th rowspan=\"2\" valign=\"top\">1995</th>\n",
       "      <th>Mass</th>\n",
       "      <td>6.0</td>\n",
       "      <td>0.0</td>\n",
       "      <td>6.0</td>\n",
       "    </tr>\n",
       "    <tr>\n",
       "      <th>Spree</th>\n",
       "      <td>NaN</td>\n",
       "      <td>NaN</td>\n",
       "      <td>NaN</td>\n",
       "    </tr>\n",
       "    <tr>\n",
       "      <th rowspan=\"2\" valign=\"top\">1996</th>\n",
       "      <th>Mass</th>\n",
       "      <td>6.0</td>\n",
       "      <td>1.0</td>\n",
       "      <td>7.0</td>\n",
       "    </tr>\n",
       "    <tr>\n",
       "      <th>Spree</th>\n",
       "      <td>NaN</td>\n",
       "      <td>NaN</td>\n",
       "      <td>NaN</td>\n",
       "    </tr>\n",
       "    <tr>\n",
       "      <th rowspan=\"2\" valign=\"top\">1997</th>\n",
       "      <th>Mass</th>\n",
       "      <td>9.0</td>\n",
       "      <td>5.0</td>\n",
       "      <td>14.0</td>\n",
       "    </tr>\n",
       "    <tr>\n",
       "      <th>Spree</th>\n",
       "      <td>NaN</td>\n",
       "      <td>NaN</td>\n",
       "      <td>NaN</td>\n",
       "    </tr>\n",
       "    <tr>\n",
       "      <th rowspan=\"2\" valign=\"top\">1998</th>\n",
       "      <th>Mass</th>\n",
       "      <td>10.0</td>\n",
       "      <td>11.0</td>\n",
       "      <td>21.0</td>\n",
       "    </tr>\n",
       "    <tr>\n",
       "      <th>Spree</th>\n",
       "      <td>4.0</td>\n",
       "      <td>25.0</td>\n",
       "      <td>29.0</td>\n",
       "    </tr>\n",
       "    <tr>\n",
       "      <th>...</th>\n",
       "      <th>...</th>\n",
       "      <td>...</td>\n",
       "      <td>...</td>\n",
       "      <td>...</td>\n",
       "    </tr>\n",
       "    <tr>\n",
       "      <th rowspan=\"2\" valign=\"top\">2000</th>\n",
       "      <th>Mass</th>\n",
       "      <td>7.0</td>\n",
       "      <td>0.0</td>\n",
       "      <td>7.0</td>\n",
       "    </tr>\n",
       "    <tr>\n",
       "      <th>Spree</th>\n",
       "      <td>NaN</td>\n",
       "      <td>NaN</td>\n",
       "      <td>NaN</td>\n",
       "    </tr>\n",
       "    <tr>\n",
       "      <th rowspan=\"2\" valign=\"top\">2001</th>\n",
       "      <th>Mass</th>\n",
       "      <td>5.0</td>\n",
       "      <td>4.0</td>\n",
       "      <td>9.0</td>\n",
       "    </tr>\n",
       "    <tr>\n",
       "      <th>Spree</th>\n",
       "      <td>NaN</td>\n",
       "      <td>NaN</td>\n",
       "      <td>NaN</td>\n",
       "    </tr>\n",
       "    <tr>\n",
       "      <th rowspan=\"2\" valign=\"top\">2003</th>\n",
       "      <th>Mass</th>\n",
       "      <td>7.0</td>\n",
       "      <td>8.0</td>\n",
       "      <td>15.0</td>\n",
       "    </tr>\n",
       "    <tr>\n",
       "      <th>Spree</th>\n",
       "      <td>NaN</td>\n",
       "      <td>NaN</td>\n",
       "      <td>NaN</td>\n",
       "    </tr>\n",
       "    <tr>\n",
       "      <th rowspan=\"2\" valign=\"top\">2004</th>\n",
       "      <th>Mass</th>\n",
       "      <td>5.0</td>\n",
       "      <td>7.0</td>\n",
       "      <td>12.0</td>\n",
       "    </tr>\n",
       "    <tr>\n",
       "      <th>Spree</th>\n",
       "      <td>NaN</td>\n",
       "      <td>NaN</td>\n",
       "      <td>NaN</td>\n",
       "    </tr>\n",
       "    <tr>\n",
       "      <th rowspan=\"2\" valign=\"top\">2005</th>\n",
       "      <th>Mass</th>\n",
       "      <td>7.0</td>\n",
       "      <td>4.0</td>\n",
       "      <td>11.0</td>\n",
       "    </tr>\n",
       "    <tr>\n",
       "      <th>Spree</th>\n",
       "      <td>10.0</td>\n",
       "      <td>5.0</td>\n",
       "      <td>15.0</td>\n",
       "    </tr>\n",
       "    <tr>\n",
       "      <th rowspan=\"2\" valign=\"top\">2006</th>\n",
       "      <th>Mass</th>\n",
       "      <td>13.0</td>\n",
       "      <td>7.0</td>\n",
       "      <td>20.0</td>\n",
       "    </tr>\n",
       "    <tr>\n",
       "      <th>Spree</th>\n",
       "      <td>8.0</td>\n",
       "      <td>0.0</td>\n",
       "      <td>8.0</td>\n",
       "    </tr>\n",
       "    <tr>\n",
       "      <th rowspan=\"2\" valign=\"top\">2007</th>\n",
       "      <th>Mass</th>\n",
       "      <td>54.0</td>\n",
       "      <td>32.0</td>\n",
       "      <td>86.0</td>\n",
       "    </tr>\n",
       "    <tr>\n",
       "      <th>Spree</th>\n",
       "      <td>NaN</td>\n",
       "      <td>NaN</td>\n",
       "      <td>NaN</td>\n",
       "    </tr>\n",
       "    <tr>\n",
       "      <th rowspan=\"2\" valign=\"top\">2008</th>\n",
       "      <th>Mass</th>\n",
       "      <td>18.0</td>\n",
       "      <td>24.0</td>\n",
       "      <td>42.0</td>\n",
       "    </tr>\n",
       "    <tr>\n",
       "      <th>Spree</th>\n",
       "      <td>NaN</td>\n",
       "      <td>NaN</td>\n",
       "      <td>NaN</td>\n",
       "    </tr>\n",
       "    <tr>\n",
       "      <th rowspan=\"2\" valign=\"top\">2009</th>\n",
       "      <th>Mass</th>\n",
       "      <td>39.0</td>\n",
       "      <td>38.0</td>\n",
       "      <td>77.0</td>\n",
       "    </tr>\n",
       "    <tr>\n",
       "      <th>Spree</th>\n",
       "      <td>NaN</td>\n",
       "      <td>NaN</td>\n",
       "      <td>NaN</td>\n",
       "    </tr>\n",
       "    <tr>\n",
       "      <th rowspan=\"2\" valign=\"top\">2010</th>\n",
       "      <th>Mass</th>\n",
       "      <td>9.0</td>\n",
       "      <td>2.0</td>\n",
       "      <td>11.0</td>\n",
       "    </tr>\n",
       "    <tr>\n",
       "      <th>Spree</th>\n",
       "      <td>NaN</td>\n",
       "      <td>NaN</td>\n",
       "      <td>NaN</td>\n",
       "    </tr>\n",
       "    <tr>\n",
       "      <th rowspan=\"2\" valign=\"top\">2011</th>\n",
       "      <th>Mass</th>\n",
       "      <td>19.0</td>\n",
       "      <td>21.0</td>\n",
       "      <td>40.0</td>\n",
       "    </tr>\n",
       "    <tr>\n",
       "      <th>Spree</th>\n",
       "      <td>NaN</td>\n",
       "      <td>NaN</td>\n",
       "      <td>NaN</td>\n",
       "    </tr>\n",
       "    <tr>\n",
       "      <th rowspan=\"2\" valign=\"top\">2012</th>\n",
       "      <th>Mass</th>\n",
       "      <td>66.0</td>\n",
       "      <td>67.0</td>\n",
       "      <td>133.0</td>\n",
       "    </tr>\n",
       "    <tr>\n",
       "      <th>Spree</th>\n",
       "      <td>6.0</td>\n",
       "      <td>1.0</td>\n",
       "      <td>7.0</td>\n",
       "    </tr>\n",
       "    <tr>\n",
       "      <th rowspan=\"2\" valign=\"top\">2013</th>\n",
       "      <th>Mass</th>\n",
       "      <td>24.0</td>\n",
       "      <td>8.0</td>\n",
       "      <td>32.0</td>\n",
       "    </tr>\n",
       "    <tr>\n",
       "      <th>Spree</th>\n",
       "      <td>11.0</td>\n",
       "      <td>5.0</td>\n",
       "      <td>16.0</td>\n",
       "    </tr>\n",
       "    <tr>\n",
       "      <th rowspan=\"2\" valign=\"top\">2014</th>\n",
       "      <th>Mass</th>\n",
       "      <td>9.0</td>\n",
       "      <td>3.0</td>\n",
       "      <td>12.0</td>\n",
       "    </tr>\n",
       "    <tr>\n",
       "      <th>Spree</th>\n",
       "      <td>NaN</td>\n",
       "      <td>NaN</td>\n",
       "      <td>NaN</td>\n",
       "    </tr>\n",
       "    <tr>\n",
       "      <th rowspan=\"2\" valign=\"top\">2015</th>\n",
       "      <th>Mass</th>\n",
       "      <td>14.0</td>\n",
       "      <td>3.0</td>\n",
       "      <td>17.0</td>\n",
       "    </tr>\n",
       "    <tr>\n",
       "      <th>Spree</th>\n",
       "      <td>NaN</td>\n",
       "      <td>NaN</td>\n",
       "      <td>NaN</td>\n",
       "    </tr>\n",
       "  </tbody>\n",
       "</table>\n",
       "<p>62 rows × 3 columns</p>\n",
       "</div>"
      ],
      "text/plain": [
       "                    Fatalities  Wounded  Total_victims\n",
       "Year Shooting_type                                    \n",
       "1982 Mass                  8.0      3.0           11.0\n",
       "     Spree                 NaN      NaN            NaN\n",
       "1984 Mass                 28.0     20.0           48.0\n",
       "     Spree                 NaN      NaN            NaN\n",
       "1986 Mass                 15.0      6.0           21.0\n",
       "     Spree                 NaN      NaN            NaN\n",
       "1987 Mass                  NaN      NaN            NaN\n",
       "     Spree                 6.0     14.0           20.0\n",
       "1988 Mass                  7.0      4.0           11.0\n",
       "     Spree                 NaN      NaN            NaN\n",
       "1989 Mass                 15.0     41.0           56.0\n",
       "     Spree                 NaN      NaN            NaN\n",
       "1990 Mass                 10.0      4.0           14.0\n",
       "     Spree                 NaN      NaN            NaN\n",
       "1991 Mass                 35.0     26.0           61.0\n",
       "     Spree                 NaN      NaN            NaN\n",
       "1992 Mass                  9.0     10.0           19.0\n",
       "     Spree                 NaN      NaN            NaN\n",
       "1993 Mass                 23.0     34.0           57.0\n",
       "     Spree                 NaN      NaN            NaN\n",
       "1994 Mass                  5.0     23.0           28.0\n",
       "     Spree                 NaN      NaN            NaN\n",
       "1995 Mass                  6.0      0.0            6.0\n",
       "     Spree                 NaN      NaN            NaN\n",
       "1996 Mass                  6.0      1.0            7.0\n",
       "     Spree                 NaN      NaN            NaN\n",
       "1997 Mass                  9.0      5.0           14.0\n",
       "     Spree                 NaN      NaN            NaN\n",
       "1998 Mass                 10.0     11.0           21.0\n",
       "     Spree                 4.0     25.0           29.0\n",
       "...                        ...      ...            ...\n",
       "2000 Mass                  7.0      0.0            7.0\n",
       "     Spree                 NaN      NaN            NaN\n",
       "2001 Mass                  5.0      4.0            9.0\n",
       "     Spree                 NaN      NaN            NaN\n",
       "2003 Mass                  7.0      8.0           15.0\n",
       "     Spree                 NaN      NaN            NaN\n",
       "2004 Mass                  5.0      7.0           12.0\n",
       "     Spree                 NaN      NaN            NaN\n",
       "2005 Mass                  7.0      4.0           11.0\n",
       "     Spree                10.0      5.0           15.0\n",
       "2006 Mass                 13.0      7.0           20.0\n",
       "     Spree                 8.0      0.0            8.0\n",
       "2007 Mass                 54.0     32.0           86.0\n",
       "     Spree                 NaN      NaN            NaN\n",
       "2008 Mass                 18.0     24.0           42.0\n",
       "     Spree                 NaN      NaN            NaN\n",
       "2009 Mass                 39.0     38.0           77.0\n",
       "     Spree                 NaN      NaN            NaN\n",
       "2010 Mass                  9.0      2.0           11.0\n",
       "     Spree                 NaN      NaN            NaN\n",
       "2011 Mass                 19.0     21.0           40.0\n",
       "     Spree                 NaN      NaN            NaN\n",
       "2012 Mass                 66.0     67.0          133.0\n",
       "     Spree                 6.0      1.0            7.0\n",
       "2013 Mass                 24.0      8.0           32.0\n",
       "     Spree                11.0      5.0           16.0\n",
       "2014 Mass                  9.0      3.0           12.0\n",
       "     Spree                 NaN      NaN            NaN\n",
       "2015 Mass                 14.0      3.0           17.0\n",
       "     Spree                 NaN      NaN            NaN\n",
       "\n",
       "[62 rows x 3 columns]"
      ]
     },
     "execution_count": 34,
     "metadata": {},
     "output_type": "execute_result"
    }
   ],
   "source": [
    "# Looking at shootings by Year, Shooting type, and  impact to victimes wounded or fatal\n",
    "shootings.groupby(['Year', 'Shooting_type']).sum()"
   ]
  },
  {
   "cell_type": "code",
   "execution_count": 35,
   "metadata": {
    "collapsed": false
   },
   "outputs": [
    {
     "data": {
      "text/plain": [
       "Year  Shooting_type\n",
       "1982  Mass             1\n",
       "1984  Mass             2\n",
       "1986  Mass             1\n",
       "1987  Spree            1\n",
       "1988  Mass             1\n",
       "1989  Mass             2\n",
       "1990  Mass             1\n",
       "1991  Mass             3\n",
       "1992  Mass             2\n",
       "1993  Mass             4\n",
       "1994  Mass             1\n",
       "1995  Mass             1\n",
       "1996  Mass             1\n",
       "1997  Mass             2\n",
       "1998  Mass             2\n",
       "      Spree            1\n",
       "1999  Mass             4\n",
       "      Spree            1\n",
       "2000  Mass             1\n",
       "2001  Mass             1\n",
       "2003  Mass             1\n",
       "2004  Mass             1\n",
       "2005  Mass             1\n",
       "      Spree            1\n",
       "2006  Mass             2\n",
       "      Spree            1\n",
       "2007  Mass             4\n",
       "2008  Mass             3\n",
       "2009  Mass             4\n",
       "2010  Mass             1\n",
       "2011  Mass             3\n",
       "2012  Mass             6\n",
       "      Spree            1\n",
       "2013  Mass             3\n",
       "      Spree            2\n",
       "2014  Mass             2\n",
       "2015  Mass             2\n",
       "dtype: int64"
      ]
     },
     "execution_count": 35,
     "metadata": {},
     "output_type": "execute_result"
    }
   ],
   "source": [
    "# Looking at shootings by year and shooting type\n",
    "shootings[['Year', 'Shooting_type']].groupby(['Year', 'Shooting_type']).size()"
   ]
  },
  {
   "cell_type": "code",
   "execution_count": 36,
   "metadata": {
    "collapsed": false
   },
   "outputs": [
    {
     "data": {
      "text/plain": [
       "Year\n",
       "1982    1\n",
       "1984    2\n",
       "1986    1\n",
       "1987    1\n",
       "1988    1\n",
       "1989    2\n",
       "1990    1\n",
       "1991    3\n",
       "1992    2\n",
       "1993    4\n",
       "1994    1\n",
       "1995    1\n",
       "1996    1\n",
       "1997    2\n",
       "1998    3\n",
       "1999    5\n",
       "2000    1\n",
       "2001    1\n",
       "2003    1\n",
       "2004    1\n",
       "2005    2\n",
       "2006    3\n",
       "2007    4\n",
       "2008    3\n",
       "2009    4\n",
       "2010    1\n",
       "2011    3\n",
       "2012    7\n",
       "2013    5\n",
       "2014    2\n",
       "2015    2\n",
       "dtype: int64"
      ]
     },
     "execution_count": 36,
     "metadata": {},
     "output_type": "execute_result"
    }
   ],
   "source": [
    "# Looking at shootings by year and shooting type\n",
    "shootings[['Year', 'Shooting_type']].groupby(['Year']).size()"
   ]
  },
  {
   "cell_type": "code",
   "execution_count": 37,
   "metadata": {
    "collapsed": false
   },
   "outputs": [
    {
     "data": {
      "image/png": "[encoded data removed]",
      "text/plain": [
       "<matplotlib.figure.Figure at 0x7f7dc3bac438>"
      ]
     },
     "metadata": {},
     "output_type": "display_data"
    }
   ],
   "source": [
    "# Plot the shooting data by Year\n",
    "sns.set_style(\"darkgrid\")\n",
    "sns_year = sns.factorplot(x='Year', data=shootings, aspect=1.5, kind=\"count\", \\\n",
    "                         palette=\"muted\")\n",
    "sns_year.set(xlabel='Year', ylabel='Count')\n",
    "sns_year.set_xticklabels(rotation=45)\n",
    "plt.gcf().subplots_adjust(bottom=0.35)\n",
    "plt.gcf().subplots_adjust(left=0.10)\n",
    "plt.savefig('/tmp/ByYear.jpg')"
   ]
  }
 ],
 "metadata": {
  "anaconda-cloud": {},
  "kernelspec": {
   "display_name": "Python [conda env:py35]",
   "language": "python",
   "name": "conda-env-py35-py"
  },
  "language_info": {
   "codemirror_mode": {
    "name": "ipython",
    "version": 3
   },
   "file_extension": ".py",
   "mimetype": "text/x-python",
   "name": "python",
   "nbconvert_exporter": "python",
   "pygments_lexer": "ipython3",
   "version": "3.5.2"
  }
 },
 "nbformat": 4,
 "nbformat_minor": 0
}
